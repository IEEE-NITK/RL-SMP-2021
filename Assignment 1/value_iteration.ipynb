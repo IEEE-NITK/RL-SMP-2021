{
  "nbformat": 4,
  "nbformat_minor": 0,
  "metadata": {
    "kernelspec": {
      "display_name": "Python 3",
      "language": "python",
      "name": "python3"
    },
    "language_info": {
      "codemirror_mode": {
        "name": "ipython",
        "version": 3
      },
      "file_extension": ".py",
      "mimetype": "text/x-python",
      "name": "python",
      "nbconvert_exporter": "python",
      "pygments_lexer": "ipython3",
      "version": "3.7.4"
    },
    "colab": {
      "name": "value_iteration.ipynb",
      "provenance": []
    }
  },
  "cells": [
    {
      "cell_type": "code",
      "metadata": {
        "id": "ezO_AiLZtbbB"
      },
      "source": [
        "import numpy as np\n",
        "import copy"
      ],
      "execution_count": 1,
      "outputs": []
    },
    {
      "cell_type": "code",
      "metadata": {
        "id": "956oQjxZtbbE"
      },
      "source": [
        "# Initialize states and random policy\n",
        "\n",
        "def initialization():\n",
        "    '''\n",
        "    Returns:\n",
        "            V - a 2d array initialized as 0\n",
        "            R - dictionary containing rewards for each state\n",
        "            P - dictionary denoting equiprobable random policy\n",
        "            states - array containing tuples of states in the gridworld\n",
        "            terminal_states - array containing terminal states of the gridworld\n",
        "    '''\n",
        "    num_rows = 4\n",
        "    num_cols = 4\n",
        "    states = []\n",
        "    for i in range(num_rows):\n",
        "        for j in range(num_cols):\n",
        "            states.append((i,j))\n",
        "    terminal_states = [(0,0),(3,3)]\n",
        "    V = np.zeros([4,4])\n",
        "    R = {}\n",
        "    P = {}\n",
        "    for state in states:\n",
        "        if state in terminal_states:\n",
        "            R[state] = 0\n",
        "            P[state] = []\n",
        "        else:\n",
        "            R[state] = -1\n",
        "            P[state] = ['L','R','D','U']\n",
        "    return V,R,P,states,terminal_states"
      ],
      "execution_count": 2,
      "outputs": []
    },
    {
      "cell_type": "code",
      "metadata": {
        "id": "4O9dwRF2nnNR"
      },
      "source": [
        "def get_state(action, state):\n",
        "  if action == 'L':\n",
        "    new_state = (state[0], state[1]-1)\n",
        "  if action == 'R':\n",
        "    new_state = (state[0], state[1]+1)\n",
        "  if action == 'U':\n",
        "    new_state = (state[0]-1, state[1])\n",
        "  if action == 'D':\n",
        "    new_state = (state[0]+1, state[1])\n",
        "  if new_state not in states:\n",
        "    new_state = state\n",
        "  return new_state"
      ],
      "execution_count": 13,
      "outputs": []
    },
    {
      "cell_type": "code",
      "metadata": {
        "id": "Hnq47gmWrO8v"
      },
      "source": [
        "def get_array(V, R, P, state):\n",
        "  actions = P[state]\n",
        "  V_array = []\n",
        "  for action in actions:\n",
        "    new_state = get_state(action, state)\n",
        "    V_state = R[state] + V[new_state]\n",
        "    V_array.append(round(V_state, 2))\n",
        "  return V_array\n",
        "\n",
        "def get_indices(arr, max_):\n",
        "  indices = []\n",
        "  for x in range(len(arr)):\n",
        "    if arr[x] == max_:\n",
        "      indices.append(x)\n",
        "  return indices"
      ],
      "execution_count": 4,
      "outputs": []
    },
    {
      "cell_type": "code",
      "metadata": {
        "id": "xp5a9zIQtbbF"
      },
      "source": [
        "# Function to implement Value iteration\n",
        "def value_iteration(V,P,R,states,terminal_states):\n",
        "    '''\n",
        "    Arguments:\n",
        "            V - a 2d array initialized as 0\n",
        "            R - dictionary containing rewards for each state\n",
        "            P - dictionary denoting equiprobable random policy\n",
        "            states - array containing tuples of states in the gridworld\n",
        "            terminal_states - array containing terminal states of the gridworld\n",
        "    Returns:\n",
        "            P - optimal policy\n",
        "    '''\n",
        "\n",
        "    num_iterations = 0\n",
        "    gamma = 1\n",
        "    \n",
        "    # Loop for convergence of value function\n",
        "    while num_iterations < 2000:\n",
        "      copyV = copy.deepcopy(V)\n",
        "      for state in states:\n",
        "        actions = P[state]\n",
        "        V_array = []\n",
        "        for action in actions:\n",
        "          new_state = get_state(action, state)\n",
        "          V_new = R[state] + (1/4) * gamma * V[new_state]\n",
        "          V_array.append(V_new)\n",
        "        max_V = 0\n",
        "        if len(V_array):\n",
        "          max_V = max(V_array)\n",
        "        copyV[state] = max_V\n",
        "      V = copyV\n",
        "      num_iterations += 1\n",
        "\n",
        "    # Find optimal policy using precomputed values of all states \n",
        "    for state in states:\n",
        "      V_array = get_array(V, R, P, state)\n",
        "      if len(V_array):\n",
        "        max_ = max(V_array)\n",
        "        indices = get_indices(V_array, max_)\n",
        "        a = P[state]\n",
        "        P[state] = [a[indice] for indice in indices] \n",
        "  \n",
        "\n",
        "    return P"
      ],
      "execution_count": 12,
      "outputs": []
    },
    {
      "cell_type": "code",
      "metadata": {
        "colab": {
          "base_uri": "https://localhost:8080/"
        },
        "id": "_cuVjhlJtbbG",
        "outputId": "cb62a1d4-52c7-4c51-81a0-fcdb8e57a827"
      },
      "source": [
        "V,R,P,states,terminal_states = initialization()\n",
        "P = value_iteration(V,P,R,states,terminal_states)\n",
        "\n",
        "# Print optimal policy\n",
        "# Each cell denotes the optimal action that needs to be taken in that state\n",
        "print(\"Optimal policy is: \")\n",
        "for row in range(4):\n",
        "    for col in range(4):\n",
        "        print(P[(row,col)],end=' ')\n",
        "    print()"
      ],
      "execution_count": 14,
      "outputs": [
        {
          "output_type": "stream",
          "text": [
            "Optimal policy is: \n",
            "[] ['L'] ['L'] ['L', 'D'] \n",
            "['U'] ['L', 'U'] ['L', 'R', 'D', 'U'] ['D'] \n",
            "['U'] ['L', 'R', 'D', 'U'] ['R', 'D'] ['D'] \n",
            "['R', 'U'] ['R'] ['R'] [] \n"
          ],
          "name": "stdout"
        }
      ]
    }
  ]
}