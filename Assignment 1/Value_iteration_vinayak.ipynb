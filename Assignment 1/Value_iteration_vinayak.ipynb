{
 "cells": [
  {
   "cell_type": "markdown",
   "metadata": {},
   "source": [
    "#### Value Iteration\n",
    "``` \n",
    "V - Value function                   4x4 array\n",
    " Actions - All the actions possible   list \n",
    " R - Reward function (here just R(s)) 4x4 Array\n",
    " P - 1 not required since it is determinstic grid world ```"
   ]
  },
  {
   "cell_type": "code",
   "execution_count": 893,
   "metadata": {},
   "outputs": [
    {
     "name": "stdout",
     "output_type": "stream",
     "text": [
      "[[0. 0. 0. 0.]\n",
      " [0. 0. 0. 0.]\n",
      " [0. 0. 0. 0.]\n",
      " [0. 0. 0. 0.]] 0.0\n"
     ]
    }
   ],
   "source": [
    "import numpy as np \n",
    "# V = np.array([[1,2,3,4],[4,5,6,7],[6,7,8,9],[10,11,13,14]])\n",
    "V = np.zeros([4,4])\n",
    "V\n",
    "print(V,V[1][0])"
   ]
  },
  {
   "cell_type": "markdown",
   "metadata": {},
   "source": [
    "``` Pr(s,action) -> gives the next state given the current action and state ```"
   ]
  },
  {
   "cell_type": "code",
   "execution_count": 894,
   "metadata": {},
   "outputs": [
    {
     "data": {
      "text/plain": [
       "(2, 1)"
      ]
     },
     "execution_count": 894,
     "metadata": {},
     "output_type": "execute_result"
    }
   ],
   "source": [
    "def isValid(s):\n",
    "    if s[0] in [0,1,2,3]:\n",
    "        if s[1] in [0,1,2,3]:\n",
    "            return True\n",
    "    return False\n",
    "\n",
    "def Pr(s,action):\n",
    "    s = list(s)\n",
    "    if action=='L':\n",
    "        if isValid((s[0],s[1] - 1)):\n",
    "            s_next_exp = (s[0],s[1]-1)\n",
    "        else : \n",
    "            s_next_exp = s\n",
    "    if action=='R':\n",
    "        if isValid((s[0],s[1] + 1)):\n",
    "            s_next_exp = (s[0],s[1]+1)\n",
    "        else : \n",
    "            s_next_exp = s\n",
    "    if action== 'U':\n",
    "        if isValid((s[0] -1 ,s[1] )):\n",
    "            s_next_exp = (s[0]-1,s[1])\n",
    "        else : \n",
    "            s_next_exp = s\n",
    "    if action== 'D':\n",
    "        if isValid((s[0] +1 ,s[1] )):\n",
    "            s_next_exp = (s[0]+1,s[1])\n",
    "        else : \n",
    "            s_next_exp = s\n",
    "    return s_next_exp               \n",
    "Pr((1,1),'D')"
   ]
  },
  {
   "cell_type": "code",
   "execution_count": 895,
   "metadata": {},
   "outputs": [
    {
     "data": {
      "text/plain": [
       "array([[0., 0., 0., 0.],\n",
       "       [0., 0., 0., 0.],\n",
       "       [0., 0., 0., 0.],\n",
       "       [0., 0., 0., 0.]])"
      ]
     },
     "execution_count": 895,
     "metadata": {},
     "output_type": "execute_result"
    }
   ],
   "source": [
    "Actions = ['R','L','U','D']\n",
    "R = -1*np.ones([4,4])\n",
    "R[0][0] = 0\n",
    "R[3][3] = 0\n",
    "V \n",
    "gamma = 0.90\n",
    "V  "
   ]
  },
  {
   "cell_type": "markdown",
   "metadata": {},
   "source": [
    "###  V* \n",
    "``` Value iteration , Asynchrounous update each time going through each state \n",
    " V* - optimum value function ```"
   ]
  },
  {
   "cell_type": "code",
   "execution_count": 1045,
   "metadata": {},
   "outputs": [
    {
     "data": {
      "text/plain": [
       "array([[ 0., -1., -2., -3.],\n",
       "       [-1., -2., -3., -2.],\n",
       "       [-2., -3., -2., -1.],\n",
       "       [-3., -2., -1.,  0.]])"
      ]
     },
     "execution_count": 1045,
     "metadata": {},
     "output_type": "execute_result"
    }
   ],
   "source": [
    "# run this continously till it converges\n",
    "for i in range(4):\n",
    "    for j in range(4):\n",
    "        if((i,j)==(0,0) or (i,j)==(3,3)):\n",
    "            continue\n",
    "        Q = []\n",
    "        for action in Actions:\n",
    "            next_state = Pr((j,i),action)\n",
    "            Q.append(R[j][i] + V[next_state[1]][next_state[0]]) \n",
    "        V[j][i] = max(Q)\n",
    "V"
   ]
  },
  {
   "cell_type": "markdown",
   "metadata": {},
   "source": [
    "### Calculating Pi*\n",
    "``` Gives best move/action\n",
    " Pi* - optimum policy ```"
   ]
  },
  {
   "cell_type": "code",
   "execution_count": 1040,
   "metadata": {},
   "outputs": [],
   "source": [
    "def pi_star(state):\n",
    "    t = {}\n",
    "    for action in Actions:\n",
    "        nxt_state = Pr(state,action)\n",
    "        t[action] = V[nxt_state[0]][nxt_state[1]]\n",
    "\n",
    "    tkeys = list(t.keys())\n",
    "    tval = list(t.values())\n",
    "    m = max(tval)\n",
    "    f = [tkeys[np.argmax(tval)]]\n",
    "    for k,v in t.items():\n",
    "        if v == m and k not in f:\n",
    "            f.append(k)\n",
    "    return f"
   ]
  },
  {
   "cell_type": "markdown",
   "metadata": {},
   "source": [
    "### Best Policy"
   ]
  },
  {
   "cell_type": "code",
   "execution_count": 1048,
   "metadata": {},
   "outputs": [
    {
     "name": "stdout",
     "output_type": "stream",
     "text": [
      "[ 0 ] ['L'] ['L'] ['L', 'D'] \n",
      "\n",
      "['U'] ['L', 'U'] ['R', 'L', 'U', 'D'] ['D'] \n",
      "\n",
      "['U'] ['R', 'L', 'U', 'D'] ['R', 'D'] ['D'] \n",
      "\n",
      "['R', 'U'] ['R'] ['R'] [ 0 ] \n",
      "\n"
     ]
    }
   ],
   "source": [
    "for i in range(0,4):\n",
    "    for j in range(4):\n",
    "        if(i==j and (i==0 or i==3)):\n",
    "            print(end = \"[ 0 ] \")\n",
    "            continue\n",
    "        print(pi_star((i,j)),end = \" \")\n",
    "    print(\"\\n\")"
   ]
  }
 ],
 "metadata": {
  "kernelspec": {
   "display_name": "Python 3",
   "language": "python",
   "name": "python3"
  },
  "language_info": {
   "codemirror_mode": {
    "name": "ipython",
    "version": 3
   },
   "file_extension": ".py",
   "mimetype": "text/x-python",
   "name": "python",
   "nbconvert_exporter": "python",
   "pygments_lexer": "ipython3",
   "version": "3.8.5"
  }
 },
 "nbformat": 4,
 "nbformat_minor": 4
}
