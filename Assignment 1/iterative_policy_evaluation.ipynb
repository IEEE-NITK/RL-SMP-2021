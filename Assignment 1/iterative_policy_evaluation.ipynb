{
  "nbformat": 4,
  "nbformat_minor": 0,
  "metadata": {
    "kernelspec": {
      "display_name": "Python 3",
      "language": "python",
      "name": "python3"
    },
    "language_info": {
      "codemirror_mode": {
        "name": "ipython",
        "version": 3
      },
      "file_extension": ".py",
      "mimetype": "text/x-python",
      "name": "python",
      "nbconvert_exporter": "python",
      "pygments_lexer": "ipython3",
      "version": "3.7.4"
    },
    "colab": {
      "name": "iterative_policy_evaluation.ipynb",
      "provenance": []
    }
  },
  "cells": [
    {
      "cell_type": "code",
      "metadata": {
        "id": "y6KbogPysbPl"
      },
      "source": [
        "import numpy as np\n",
        "import copy"
      ],
      "execution_count": 5,
      "outputs": []
    },
    {
      "cell_type": "code",
      "metadata": {
        "id": "9GlOA5N_sbPn"
      },
      "source": [
        "# Initialize states and policy\n",
        "\n",
        "def initialization():\n",
        "    num_rows = 4\n",
        "    num_cols = 4\n",
        "    states = []\n",
        "    for i in range(num_rows):\n",
        "        for j in range(num_cols):\n",
        "            states.append((i,j))\n",
        "    terminal_states = [(0,0),(3,3)]\n",
        "    return states,terminal_states"
      ],
      "execution_count": 6,
      "outputs": []
    },
    {
      "cell_type": "code",
      "metadata": {
        "id": "Wnn5Qchvt_3O"
      },
      "source": [
        "def get_state(action, state, states):\n",
        "  if action == 'L':\n",
        "    new_state = (state[0], state[1]-1)\n",
        "  if action == 'R':\n",
        "    new_state = (state[0], state[1]+1)\n",
        "  if action == 'U':\n",
        "    new_state = (state[0]-1, state[1])\n",
        "  if action == 'D':\n",
        "    new_state = (state[0]+1, state[1])\n",
        "  if new_state not in states:\n",
        "    new_state = state\n",
        "  return new_state"
      ],
      "execution_count": 10,
      "outputs": []
    },
    {
      "cell_type": "code",
      "metadata": {
        "id": "Q9VzsG9IsbPo"
      },
      "source": [
        "# Policy evaluation for equiprobable random policy\n",
        "def policy_evaluation(states,terminal_states):\n",
        "    num_iterations = 0\n",
        "    V = {}\n",
        "    V1 = {}\n",
        "    for state in states:\n",
        "        V[state] = 0\n",
        "        V1[state] = 0\n",
        "    P = {}\n",
        "    for state in states:\n",
        "        if not (state in terminal_states):\n",
        "            P[state] = ['L','R','U','D']\n",
        "        else:\n",
        "            P[state] = []\n",
        "    gamma = 1\n",
        "    while num_iterations < 2000:\n",
        "        copyV = copy.deepcopy(V)\n",
        "        for state in states:\n",
        "          new_reward = 0\n",
        "          actions = P[state]\n",
        "          for action in actions:\n",
        "            final_state = get_state(action, state, states)\n",
        "            if state in terminal_states:\n",
        "              reward = 0\n",
        "            else:\n",
        "              reward = -1\n",
        "            new_reward += (1/len(actions))*(reward+(gamma*V[final_state]))          \n",
        "          copyV[state] = new_reward\n",
        "        V = copyV\n",
        "        num_iterations += 1\n",
        "\n",
        "    return V"
      ],
      "execution_count": 12,
      "outputs": []
    },
    {
      "cell_type": "code",
      "metadata": {
        "scrolled": false,
        "colab": {
          "base_uri": "https://localhost:8080/"
        },
        "id": "O3ota3VpsbPo",
        "outputId": "36da7f58-74b3-44a4-9d75-16182982022c"
      },
      "source": [
        "states,terminal_states = initialization()\n",
        "\n",
        "V1 = policy_evaluation(states,terminal_states)\n",
        "\n",
        "# Convert value function from dictionary to a numpy array \n",
        "V = np.zeros((4,4))\n",
        "for state in states:\n",
        "    V[state[0]][state[1]] = V1[state]\n",
        "    \n",
        "# Print value function\n",
        "print(np.round(V))"
      ],
      "execution_count": 13,
      "outputs": [
        {
          "output_type": "stream",
          "text": [
            "[[  0. -14. -20. -22.]\n",
            " [-14. -18. -20. -20.]\n",
            " [-20. -20. -18. -14.]\n",
            " [-22. -20. -14.   0.]]\n"
          ],
          "name": "stdout"
        }
      ]
    }
  ]
}